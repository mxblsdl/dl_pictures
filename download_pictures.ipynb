{
 "metadata": {
  "language_info": {
   "codemirror_mode": {
    "name": "ipython",
    "version": 3
   },
   "file_extension": ".py",
   "mimetype": "text/x-python",
   "name": "python",
   "nbconvert_exporter": "python",
   "pygments_lexer": "ipython3",
   "version": "3.8.5-final"
  },
  "orig_nbformat": 2,
  "kernelspec": {
   "name": "python38564bit85dcbd0d096e4bc59141db86e8b8e649",
   "display_name": "Python 3.8.5 64-bit",
   "language": "python"
  }
 },
 "nbformat": 4,
 "nbformat_minor": 2,
 "cells": [
  {
   "source": [
    "# Purpose\n",
    "\n",
    "This notebook connects to the remote picamera, finds all of the new pictures and downloads them to the local machine.\n",
    "\n",
    "Import the libraries that will be used. I use `paramiko` to create the connection to the pi camera."
   ],
   "cell_type": "markdown",
   "metadata": {}
  },
  {
   "source": [
    "import paramiko\n",
    "import os\n",
    "import pandas as pd"
   ],
   "cell_type": "code",
   "metadata": {},
   "execution_count": 65,
   "outputs": []
  },
  {
   "cell_type": "code",
   "execution_count": 84,
   "metadata": {},
   "outputs": [],
   "source": [
    "# read in file containing host information\n",
    "d = pd.read_csv(\"server_info.csv\")\n",
    "\n",
    "d = dict(zip(list(d.iloc[:, 0]), list(d.iloc[:, 1])))\n",
    "\n",
    "ssh_client=paramiko.SSHClient()\n",
    "ssh_client.set_missing_host_key_policy(paramiko.AutoAddPolicy())\n",
    "\n",
    "# This should really be a txt file that gets read in\n",
    "ssh_client.connect(hostname = d['hostname'],username = d['username'], password = d['password'], port = 22)"
   ]
  },
  {
   "cell_type": "code",
   "execution_count": 70,
   "metadata": {},
   "outputs": [
    {
     "output_type": "stream",
     "name": "stdout",
     "text": [
      " 192.168.0.107\n"
     ]
    }
   ],
   "source": [
    "# read in file containing host information\n",
    "import pandas as pd\n",
    "\n",
    "#server_info = pd.read_csv(\"server_info.csv\").to_dict()\n",
    "d = pd.read_csv(\"server_info.csv\")\n",
    "\n",
    "d = dict(zip(list(d.iloc[:, 0]), list(d.iloc[:, 1])))\n",
    "\n",
    "print(d['hostname'])\n",
    "\n",
    "#print(server_info)\n",
    "\n",
    "#print(server_info.loc[server_info['attr'] == 'hostname'])\n"
   ]
  },
  {
   "source": [
    "Find all of the files in the pictures folder."
   ],
   "cell_type": "markdown",
   "metadata": {}
  },
  {
   "cell_type": "code",
   "execution_count": 4,
   "metadata": {},
   "outputs": [],
   "source": [
    "stdin,stdout,stderr = ssh_client.exec_command(\"ls pictures\")\n",
    "pi_files = stdout.readlines()"
   ]
  },
  {
   "source": [
    "Remove the trailing new line characters."
   ],
   "cell_type": "markdown",
   "metadata": {}
  },
  {
   "cell_type": "code",
   "execution_count": 5,
   "metadata": {},
   "outputs": [],
   "source": [
    "pi_files = [p.strip(\"\\n\") for p in pi_files]"
   ]
  },
  {
   "source": [
    "Get a list of the existing pictures that have already been downloaded. We don't want to waste time downloading files that have already been downloaded."
   ],
   "cell_type": "markdown",
   "metadata": {}
  },
  {
   "cell_type": "code",
   "execution_count": 6,
   "metadata": {},
   "outputs": [],
   "source": [
    "existing_files = os.listdir('pi_pics/')\n",
    "\n",
    "new_files = list(set(pi_files) - set(existing_files))"
   ]
  },
  {
   "source": [
    "Iterate over each new file and download to a local folder"
   ],
   "cell_type": "markdown",
   "metadata": {}
  },
  {
   "cell_type": "code",
   "execution_count": 9,
   "metadata": {},
   "outputs": [],
   "source": [
    "ftp_client = ssh_client.open_sftp()\n",
    "\n",
    "for file in new_files:\n",
    "    remotepath = str(\"/home/pi/pictures/\" + file)\n",
    "    localpath = str(\"pi_pics/\" + file)\n",
    "\n",
    "    ftp_client.get(remotepath, localpath)\n",
    "\n",
    "ftp_client.close()"
   ]
  }
 ]
}